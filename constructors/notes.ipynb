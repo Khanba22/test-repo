{
 "cells": [
  {
   "cell_type": "markdown",
   "metadata": {},
   "source": [
    "## Constructor\n",
    "\n",
    "A Constructor is a special method that is used to create and initialize an object of a class. It has the same name as the class and does not have a return type. It is automatically called when an object of the class is created.\n",
    "\n",
    "Here is an example of a constructor for the `Example` class:\n",
    "\n",
    "```java\n",
    "public Example() {\n",
    "    // initialization\n",
    "}\n",
    "```\n"
   ]
  },
  {
   "cell_type": "markdown",
   "metadata": {},
   "source": [
    "### Chaining of Constructors\n",
    "\n",
    "Two Constructors can be chained together using the `this` keyword.\n",
    "```java\n",
    "public class Example {\n",
    "    private int instanceVar;\n",
    "    private static int staticVar;\n",
    "    public Example() {\n",
    "        this(0);\n",
    "    }\n",
    "    public Example(int instanceVar) {\n",
    "        this.instanceVar = instanceVar;\n",
    "    }\n",
    "}\n",
    "```"
   ]
  },
  {
   "cell_type": "markdown",
   "metadata": {},
   "source": [
    "### Constructor Guarantees\n",
    "The variables not initialized in the constructor will be initialized to their default values."
   ]
  },
  {
   "cell_type": "markdown",
   "metadata": {},
   "source": [
    "### Constructor Visibility\n",
    "In Java, constructors are methods that are used to initialize objects. They have the same name as the class and do not have a return type. Constructors are called when an object is created using the `new` keyword.\n",
    "Constructors can be defined with different access modifiers, such as `public`, `private`, `protected`, or `default`. The default access modifier is used when no access modifier is specified.\n",
    "\n",
    "```java\n",
    "public class MyClass {\n",
    "    // Constructor with default access modifier\n",
    "    private MyClass() {\n",
    "        // Constructor code\n",
    "    }\n",
    "    // Constructor with public access modifier\n",
    "    public MyClass(int param) {\n",
    "        // Constructor code\n",
    "    }\n",
    "}\n",
    "\n",
    "public class Main {\n",
    "    public static void main(String[] args) {\n",
    "        // Creating objects using constructors\n",
    "        MyClass obj1 = new MyClass(); // Gives a compilation error, as the default constructor is private\n",
    "        MyClass obj2 = new MyClass(10); // Calls the public constructor\n",
    "    }\n",
    "}\n",
    "```"
   ]
  },
  {
   "cell_type": "code",
   "execution_count": null,
   "metadata": {
    "vscode": {
     "languageId": "plaintext"
    }
   },
   "outputs": [],
   "source": []
  }
 ],
 "metadata": {
  "language_info": {
   "name": "python"
  }
 },
 "nbformat": 4,
 "nbformat_minor": 2
}
