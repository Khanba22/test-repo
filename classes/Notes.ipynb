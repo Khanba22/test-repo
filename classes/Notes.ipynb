{
 "cells": [
  {
   "cell_type": "markdown",
   "metadata": {},
   "source": [
    "# Classes\n",
    "\n",
    "Classes in java are of various types.\n",
    "## Types of Classes in Java\n",
    "\n",
    "### 1. Concrete Class\n",
    "A regular class that can be instantiated and contains implementation.\n"
   ]
  },
  {
   "cell_type": "markdown",
   "metadata": {},
   "source": []
  }
 ],
 "metadata": {
  "language_info": {
   "name": "python"
  }
 },
 "nbformat": 4,
 "nbformat_minor": 2
}
